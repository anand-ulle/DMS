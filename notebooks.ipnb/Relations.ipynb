{
  "nbformat": 4,
  "nbformat_minor": 0,
  "metadata": {
    "colab": {
      "name": "Relations.ipynb",
      "provenance": [],
      "collapsed_sections": []
    },
    "kernelspec": {
      "name": "python3",
      "display_name": "Python 3"
    },
    "accelerator": "TPU"
  },
  "cells": [
    {
      "cell_type": "code",
      "metadata": {
        "id": "zJrmUMn3I0e7",
        "outputId": "b239ea38-70d7-40b2-d04e-10e07e500fc5",
        "colab": {
          "base_uri": "https://localhost:8080/",
          "height": 622
        }
      },
      "source": [
        "def reflexive(R, A):\n",
        "    \"\"\"Returns True if a relation R on set A is reflexive, False otherwise.\"\"\"\n",
        "    for a in A:\n",
        "        if (a, a) not in R:\n",
        "            return False\n",
        "    return True\n",
        "\n",
        "def symmetric(R, A):\n",
        "    \"\"\"Returns True if a relation R on set A is symmetric, False otherwise.\"\"\"\n",
        "    for a, b in R:\n",
        "        if (b, a) not in R:\n",
        "            return False\n",
        "    return True\n",
        "def transitive(R, A):\n",
        "    \"\"\"Returns True if a relation R on set A is transitive, False otherwise.\"\"\"\n",
        "    for a in A:\n",
        "        for b in A:\n",
        "            if (a, b) in R:\n",
        "                for c in A:\n",
        "                    if (b, c) in R and (a, c) not in R:\n",
        "                        return False\n",
        "    return True\n",
        "A = set([1, 2, 3, 4])\n",
        "R1 = [(1, 1), (1, 2), (2, 1), (2, 2), (3, 4), (4, 1), (4, 4)]\n",
        "R2 = [(1, 1), (1, 2), (2, 1)]\n",
        "R3 = [(1, 1), (1, 2), (1, 4), (2, 1), (2, 2), (3, 3), (4, 1), (4, 4)]\n",
        "R4 = [(2, 1), (3, 1), (3, 2), (4, 1), (4, 2), (4, 3)]\n",
        "R5 = [(1, 1), (1, 2), (1, 3), (1, 4), (2, 2), (2, 3), (2, 4), (3, 3), (3, 4), (4, 4)]\n",
        "R6 = [(3, 4)]\n",
        "\n",
        "for R in [R1,R2,R3,R4,R5,R6]:\n",
        "  print(R)\n",
        "  print(\"reflexive: \", reflexive(R, A))\n",
        "  print(\"symmetric: \", symmetric(R, A))\n",
        "  print(\"transitive:\", transitive(R, A))\n",
        "  print('\\n')"
      ],
      "execution_count": null,
      "outputs": [
        {
          "output_type": "stream",
          "text": [
            "[(1, 1), (1, 2), (2, 1), (2, 2), (3, 4), (4, 1), (4, 4)]\n",
            "reflexive:  False\n",
            "symmetric:  False\n",
            "transitive: False\n",
            "\n",
            "\n",
            "[(1, 1), (1, 2), (2, 1)]\n",
            "reflexive:  False\n",
            "symmetric:  True\n",
            "transitive: False\n",
            "\n",
            "\n",
            "[(1, 1), (1, 2), (1, 4), (2, 1), (2, 2), (3, 3), (4, 1), (4, 4)]\n",
            "reflexive:  True\n",
            "symmetric:  True\n",
            "transitive: False\n",
            "\n",
            "\n",
            "[(2, 1), (3, 1), (3, 2), (4, 1), (4, 2), (4, 3)]\n",
            "reflexive:  False\n",
            "symmetric:  False\n",
            "transitive: True\n",
            "\n",
            "\n",
            "[(1, 1), (1, 2), (1, 3), (1, 4), (2, 2), (2, 3), (2, 4), (3, 3), (3, 4), (4, 4)]\n",
            "reflexive:  True\n",
            "symmetric:  False\n",
            "transitive: True\n",
            "\n",
            "\n",
            "[(3, 4)]\n",
            "reflexive:  False\n",
            "symmetric:  False\n",
            "transitive: True\n",
            "\n",
            "\n"
          ],
          "name": "stdout"
        }
      ]
    }
  ]
}